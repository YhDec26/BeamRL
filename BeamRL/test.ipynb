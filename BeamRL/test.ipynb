{
 "cells": [
  {
   "cell_type": "code",
   "execution_count": 1,
   "id": "initial_id",
   "metadata": {
    "collapsed": true,
    "ExecuteTime": {
     "end_time": "2025-02-27T01:55:37.411295600Z",
     "start_time": "2025-02-27T01:55:30.309771800Z"
    }
   },
   "outputs": [
    {
     "name": "stdout",
     "output_type": "stream",
     "text": [
      "initializing ocelot...\n"
     ]
    }
   ],
   "source": [
    "from cheetah import BPM, Drift, HorizontalCorrector, Segment, Dipole, Screen, Solenoid, Quadrupole, Aperture\n",
    "import cheetah\n",
    "import torch\n",
    "import lattice as clapa"
   ]
  },
  {
   "cell_type": "code",
   "execution_count": 2,
   "outputs": [
    {
     "name": "stdout",
     "output_type": "stream",
     "text": [
      "WARNING: Diagnostic screen was converted with default screen properties.\n",
      "WARNING: Diagnostic screen was converted with default screen properties.\n"
     ]
    }
   ],
   "source": [
    "segment = cheetah.Segment.from_ocelot(clapa.cell)"
   ],
   "metadata": {
    "collapsed": false,
    "ExecuteTime": {
     "end_time": "2025-02-27T01:55:37.470875Z",
     "start_time": "2025-02-27T01:55:37.406297500Z"
    }
   },
   "id": "5c30cf863909cf19"
  },
  {
   "cell_type": "code",
   "execution_count": 3,
   "outputs": [
    {
     "data": {
      "text/plain": "False"
     },
     "execution_count": 3,
     "metadata": {},
     "output_type": "execute_result"
    }
   ],
   "source": [
    "quad_names = [\"Q1\", \"Q2\"]\n",
    "bpm = getattr(segment, \"BPM1\")\n",
    "bpm.is_active"
   ],
   "metadata": {
    "collapsed": false,
    "ExecuteTime": {
     "end_time": "2025-02-27T01:55:38.594662Z",
     "start_time": "2025-02-27T01:55:38.584257600Z"
    }
   },
   "id": "a4d7e6d9e881e0aa"
  },
  {
   "cell_type": "code",
   "execution_count": 4,
   "outputs": [
    {
     "data": {
      "text/plain": "True"
     },
     "execution_count": 4,
     "metadata": {},
     "output_type": "execute_result"
    }
   ],
   "source": [
    "setattr(bpm, \"is_active\", True)\n",
    "bpm.is_active"
   ],
   "metadata": {
    "collapsed": false,
    "ExecuteTime": {
     "end_time": "2025-02-27T01:55:43.055682Z",
     "start_time": "2025-02-27T01:55:43.050250700Z"
    }
   },
   "id": "1f07d7686d17334e"
  },
  {
   "cell_type": "code",
   "execution_count": 9,
   "outputs": [
    {
     "data": {
      "text/plain": "Screen(resolution=(2448, 2040), pixel_size=tensor([3.5488e-06, 2.5003e-06]), binning=1, misalignment=tensor([0., 0.]), method='histogram', kde_bandwidth=tensor(0.0010), is_active=False, name='BSC1')"
     },
     "execution_count": 9,
     "metadata": {},
     "output_type": "execute_result"
    }
   ],
   "source": [
    "ion = getattr(segment, \"BSC1\")\n",
    "ion"
   ],
   "metadata": {
    "collapsed": false,
    "ExecuteTime": {
     "end_time": "2025-02-27T01:35:55.281142400Z",
     "start_time": "2025-02-27T01:35:55.218255200Z"
    }
   },
   "id": "3b456a74a51e6ee5"
  },
  {
   "cell_type": "code",
   "execution_count": 10,
   "outputs": [
    {
     "data": {
      "text/plain": "Screen(resolution=(2448, 2040), pixel_size=tensor([3.5488e-06, 2.5003e-06]), binning=1, misalignment=tensor([0., 0.]), method='histogram', kde_bandwidth=tensor(0.0010), is_active=True, name='BSC1')"
     },
     "execution_count": 10,
     "metadata": {},
     "output_type": "execute_result"
    }
   ],
   "source": [
    "ion.is_active = True\n",
    "ion"
   ],
   "metadata": {
    "collapsed": false,
    "ExecuteTime": {
     "end_time": "2025-02-27T01:36:06.539517200Z",
     "start_time": "2025-02-27T01:36:06.477263500Z"
    }
   },
   "id": "8c268bdb355b6609"
  },
  {
   "cell_type": "code",
   "execution_count": 9,
   "outputs": [],
   "source": [
    "import gym\n",
    "from gym import Env\n",
    "from stable_baselines3.common.vec_env import DummyVecEnv\n",
    "from stable_baselines3.common.monitor import Monitor\n",
    "from gym.wrappers import FlattenObservation, FrameStack, TimeLimit, RescaleAction\n",
    "\n",
    "# 创建一个简单的环境\n",
    "env = gym.make(\"CartPole-v1\")\n",
    "\n",
    "\n"
   ],
   "metadata": {
    "collapsed": false,
    "ExecuteTime": {
     "end_time": "2025-02-27T05:28:13.039255300Z",
     "start_time": "2025-02-27T05:28:13.030285700Z"
    }
   },
   "id": "ee836b772087c782"
  },
  {
   "cell_type": "code",
   "execution_count": 1,
   "outputs": [
    {
     "ename": "AssertionError",
     "evalue": "",
     "output_type": "error",
     "traceback": [
      "\u001B[1;31m---------------------------------------------------------------------------\u001B[0m",
      "\u001B[1;31mAssertionError\u001B[0m                            Traceback (most recent call last)",
      "Cell \u001B[1;32mIn[1], line 22\u001B[0m\n\u001B[0;32m      6\u001B[0m env \u001B[38;5;241m=\u001B[39m gym\u001B[38;5;241m.\u001B[39mmake(\u001B[38;5;124m\"\u001B[39m\u001B[38;5;124mCartPole-v1\u001B[39m\u001B[38;5;124m\"\u001B[39m)\n\u001B[0;32m      8\u001B[0m \u001B[38;5;66;03m# env = FilterObservation(env, True)\u001B[39;00m\n\u001B[0;32m      9\u001B[0m \u001B[38;5;66;03m#print(f\"After FilterObservation: {type(env)}\")\u001B[39;00m\n\u001B[0;32m     10\u001B[0m \n\u001B[1;32m   (...)\u001B[0m\n\u001B[0;32m     19\u001B[0m \u001B[38;5;66;03m# env = FrameStack(env, 1)\u001B[39;00m\n\u001B[0;32m     20\u001B[0m \u001B[38;5;66;03m# print(f\"After FrameStack: {type(env)}\")\u001B[39;00m\n\u001B[1;32m---> 22\u001B[0m env \u001B[38;5;241m=\u001B[39m \u001B[43mMonitor\u001B[49m\u001B[43m(\u001B[49m\u001B[43menv\u001B[49m\u001B[43m)\u001B[49m\n\u001B[0;32m     23\u001B[0m \u001B[38;5;28mprint\u001B[39m(\u001B[38;5;124mf\u001B[39m\u001B[38;5;124m\"\u001B[39m\u001B[38;5;124mAfter Monitor: \u001B[39m\u001B[38;5;132;01m{\u001B[39;00m\u001B[38;5;28mtype\u001B[39m(env)\u001B[38;5;132;01m}\u001B[39;00m\u001B[38;5;124m\"\u001B[39m)\n",
      "File \u001B[1;32mD:\\anaconda\\envs\\clapa\\lib\\site-packages\\stable_baselines3\\common\\monitor.py:40\u001B[0m, in \u001B[0;36mMonitor.__init__\u001B[1;34m(self, env, filename, allow_early_resets, reset_keywords, info_keywords, override_existing)\u001B[0m\n\u001B[0;32m     31\u001B[0m \u001B[38;5;28;01mdef\u001B[39;00m\u001B[38;5;250m \u001B[39m\u001B[38;5;21m__init__\u001B[39m(\n\u001B[0;32m     32\u001B[0m     \u001B[38;5;28mself\u001B[39m,\n\u001B[0;32m     33\u001B[0m     env: gym\u001B[38;5;241m.\u001B[39mEnv,\n\u001B[1;32m   (...)\u001B[0m\n\u001B[0;32m     38\u001B[0m     override_existing: \u001B[38;5;28mbool\u001B[39m \u001B[38;5;241m=\u001B[39m \u001B[38;5;28;01mTrue\u001B[39;00m,\n\u001B[0;32m     39\u001B[0m ):\n\u001B[1;32m---> 40\u001B[0m     \u001B[38;5;28;43msuper\u001B[39;49m\u001B[43m(\u001B[49m\u001B[43m)\u001B[49m\u001B[38;5;241;43m.\u001B[39;49m\u001B[38;5;21;43m__init__\u001B[39;49m\u001B[43m(\u001B[49m\u001B[43menv\u001B[49m\u001B[38;5;241;43m=\u001B[39;49m\u001B[43menv\u001B[49m\u001B[43m)\u001B[49m\n\u001B[0;32m     41\u001B[0m     \u001B[38;5;28mself\u001B[39m\u001B[38;5;241m.\u001B[39mt_start \u001B[38;5;241m=\u001B[39m time\u001B[38;5;241m.\u001B[39mtime()\n\u001B[0;32m     42\u001B[0m     \u001B[38;5;28mself\u001B[39m\u001B[38;5;241m.\u001B[39mresults_writer \u001B[38;5;241m=\u001B[39m \u001B[38;5;28;01mNone\u001B[39;00m\n",
      "File \u001B[1;32mD:\\anaconda\\envs\\clapa\\lib\\site-packages\\gymnasium\\core.py:310\u001B[0m, in \u001B[0;36mWrapper.__init__\u001B[1;34m(self, env)\u001B[0m\n\u001B[0;32m    304\u001B[0m \u001B[38;5;250m\u001B[39m\u001B[38;5;124;03m\"\"\"Wraps an environment to allow a modular transformation of the :meth:`step` and :meth:`reset` methods.\u001B[39;00m\n\u001B[0;32m    305\u001B[0m \n\u001B[0;32m    306\u001B[0m \u001B[38;5;124;03mArgs:\u001B[39;00m\n\u001B[0;32m    307\u001B[0m \u001B[38;5;124;03m    env: The environment to wrap\u001B[39;00m\n\u001B[0;32m    308\u001B[0m \u001B[38;5;124;03m\"\"\"\u001B[39;00m\n\u001B[0;32m    309\u001B[0m \u001B[38;5;28mself\u001B[39m\u001B[38;5;241m.\u001B[39menv \u001B[38;5;241m=\u001B[39m env\n\u001B[1;32m--> 310\u001B[0m \u001B[38;5;28;01massert\u001B[39;00m \u001B[38;5;28misinstance\u001B[39m(env, Env)\n\u001B[0;32m    312\u001B[0m \u001B[38;5;28mself\u001B[39m\u001B[38;5;241m.\u001B[39m_action_space: spaces\u001B[38;5;241m.\u001B[39mSpace[WrapperActType] \u001B[38;5;241m|\u001B[39m \u001B[38;5;28;01mNone\u001B[39;00m \u001B[38;5;241m=\u001B[39m \u001B[38;5;28;01mNone\u001B[39;00m\n\u001B[0;32m    313\u001B[0m \u001B[38;5;28mself\u001B[39m\u001B[38;5;241m.\u001B[39m_observation_space: spaces\u001B[38;5;241m.\u001B[39mSpace[WrapperObsType] \u001B[38;5;241m|\u001B[39m \u001B[38;5;28;01mNone\u001B[39;00m \u001B[38;5;241m=\u001B[39m \u001B[38;5;28;01mNone\u001B[39;00m\n",
      "\u001B[1;31mAssertionError\u001B[0m: "
     ]
    }
   ],
   "source": [
    "# from beam_tuning.utils import FilterAction\n",
    "import gym\n",
    "from gym.wrappers import FlattenObservation, FrameStack, TimeLimit, RescaleAction, FilterObservation\n",
    "from stable_baselines3.common.monitor import Monitor\n",
    "\n",
    "env = gym.make(\"CartPole-v1\")\n",
    "\n",
    "# env = FilterObservation(env, True)\n",
    "#print(f\"After FilterObservation: {type(env)}\")\n",
    "\n",
    "# env = FilterAction(env, True, replace=0)\n",
    "# print(f\"After FilterAction: {type(env)}\")\n",
    "\n",
    "#env = TimeLimit(env, 1)\n",
    "#print(f\"After TimeLimit: {type(env)}\")\n",
    "\n",
    "# env = FlattenObservation(env)\n",
    "# print(f\"After FlattenObservation: {type(env)}\")\n",
    "# env = FrameStack(env, 1)\n",
    "# print(f\"After FrameStack: {type(env)}\")\n",
    "\n",
    "env = Monitor(env)\n",
    "print(f\"After Monitor: {type(env)}\")"
   ],
   "metadata": {
    "collapsed": false,
    "ExecuteTime": {
     "end_time": "2025-02-27T07:26:12.194133100Z",
     "start_time": "2025-02-27T07:26:07.059917400Z"
    }
   },
   "id": "c1f9d68dafdbb498"
  },
  {
   "cell_type": "code",
   "execution_count": 2,
   "outputs": [
    {
     "ename": "AssertionError",
     "evalue": "",
     "output_type": "error",
     "traceback": [
      "\u001B[1;31m---------------------------------------------------------------------------\u001B[0m",
      "\u001B[1;31mAssertionError\u001B[0m                            Traceback (most recent call last)",
      "Cell \u001B[1;32mIn[2], line 5\u001B[0m\n\u001B[0;32m      2\u001B[0m \u001B[38;5;28;01mfrom\u001B[39;00m\u001B[38;5;250m \u001B[39m\u001B[38;5;21;01mstable_baselines3\u001B[39;00m\u001B[38;5;21;01m.\u001B[39;00m\u001B[38;5;21;01mcommon\u001B[39;00m\u001B[38;5;21;01m.\u001B[39;00m\u001B[38;5;21;01mmonitor\u001B[39;00m\u001B[38;5;250m \u001B[39m\u001B[38;5;28;01mimport\u001B[39;00m Monitor\n\u001B[0;32m      4\u001B[0m env \u001B[38;5;241m=\u001B[39m gym\u001B[38;5;241m.\u001B[39mmake(\u001B[38;5;124m\"\u001B[39m\u001B[38;5;124mCartPole-v1\u001B[39m\u001B[38;5;124m\"\u001B[39m)\n\u001B[1;32m----> 5\u001B[0m env \u001B[38;5;241m=\u001B[39m \u001B[43mMonitor\u001B[49m\u001B[43m(\u001B[49m\u001B[43menv\u001B[49m\u001B[43m)\u001B[49m\n\u001B[0;32m      6\u001B[0m \u001B[38;5;28mprint\u001B[39m(\u001B[38;5;124mf\u001B[39m\u001B[38;5;124m\"\u001B[39m\u001B[38;5;124mAfter Monitor: \u001B[39m\u001B[38;5;132;01m{\u001B[39;00m\u001B[38;5;28mtype\u001B[39m(env)\u001B[38;5;132;01m}\u001B[39;00m\u001B[38;5;124m\"\u001B[39m)\n",
      "File \u001B[1;32mD:\\anaconda\\envs\\clapa\\lib\\site-packages\\stable_baselines3\\common\\monitor.py:40\u001B[0m, in \u001B[0;36mMonitor.__init__\u001B[1;34m(self, env, filename, allow_early_resets, reset_keywords, info_keywords, override_existing)\u001B[0m\n\u001B[0;32m     31\u001B[0m \u001B[38;5;28;01mdef\u001B[39;00m\u001B[38;5;250m \u001B[39m\u001B[38;5;21m__init__\u001B[39m(\n\u001B[0;32m     32\u001B[0m     \u001B[38;5;28mself\u001B[39m,\n\u001B[0;32m     33\u001B[0m     env: gym\u001B[38;5;241m.\u001B[39mEnv,\n\u001B[1;32m   (...)\u001B[0m\n\u001B[0;32m     38\u001B[0m     override_existing: \u001B[38;5;28mbool\u001B[39m \u001B[38;5;241m=\u001B[39m \u001B[38;5;28;01mTrue\u001B[39;00m,\n\u001B[0;32m     39\u001B[0m ):\n\u001B[1;32m---> 40\u001B[0m     \u001B[38;5;28;43msuper\u001B[39;49m\u001B[43m(\u001B[49m\u001B[43m)\u001B[49m\u001B[38;5;241;43m.\u001B[39;49m\u001B[38;5;21;43m__init__\u001B[39;49m\u001B[43m(\u001B[49m\u001B[43menv\u001B[49m\u001B[38;5;241;43m=\u001B[39;49m\u001B[43menv\u001B[49m\u001B[43m)\u001B[49m\n\u001B[0;32m     41\u001B[0m     \u001B[38;5;28mself\u001B[39m\u001B[38;5;241m.\u001B[39mt_start \u001B[38;5;241m=\u001B[39m time\u001B[38;5;241m.\u001B[39mtime()\n\u001B[0;32m     42\u001B[0m     \u001B[38;5;28mself\u001B[39m\u001B[38;5;241m.\u001B[39mresults_writer \u001B[38;5;241m=\u001B[39m \u001B[38;5;28;01mNone\u001B[39;00m\n",
      "File \u001B[1;32mD:\\anaconda\\envs\\clapa\\lib\\site-packages\\gymnasium\\core.py:310\u001B[0m, in \u001B[0;36mWrapper.__init__\u001B[1;34m(self, env)\u001B[0m\n\u001B[0;32m    304\u001B[0m \u001B[38;5;250m\u001B[39m\u001B[38;5;124;03m\"\"\"Wraps an environment to allow a modular transformation of the :meth:`step` and :meth:`reset` methods.\u001B[39;00m\n\u001B[0;32m    305\u001B[0m \n\u001B[0;32m    306\u001B[0m \u001B[38;5;124;03mArgs:\u001B[39;00m\n\u001B[0;32m    307\u001B[0m \u001B[38;5;124;03m    env: The environment to wrap\u001B[39;00m\n\u001B[0;32m    308\u001B[0m \u001B[38;5;124;03m\"\"\"\u001B[39;00m\n\u001B[0;32m    309\u001B[0m \u001B[38;5;28mself\u001B[39m\u001B[38;5;241m.\u001B[39menv \u001B[38;5;241m=\u001B[39m env\n\u001B[1;32m--> 310\u001B[0m \u001B[38;5;28;01massert\u001B[39;00m \u001B[38;5;28misinstance\u001B[39m(env, Env)\n\u001B[0;32m    312\u001B[0m \u001B[38;5;28mself\u001B[39m\u001B[38;5;241m.\u001B[39m_action_space: spaces\u001B[38;5;241m.\u001B[39mSpace[WrapperActType] \u001B[38;5;241m|\u001B[39m \u001B[38;5;28;01mNone\u001B[39;00m \u001B[38;5;241m=\u001B[39m \u001B[38;5;28;01mNone\u001B[39;00m\n\u001B[0;32m    313\u001B[0m \u001B[38;5;28mself\u001B[39m\u001B[38;5;241m.\u001B[39m_observation_space: spaces\u001B[38;5;241m.\u001B[39mSpace[WrapperObsType] \u001B[38;5;241m|\u001B[39m \u001B[38;5;28;01mNone\u001B[39;00m \u001B[38;5;241m=\u001B[39m \u001B[38;5;28;01mNone\u001B[39;00m\n",
      "\u001B[1;31mAssertionError\u001B[0m: "
     ]
    }
   ],
   "source": [
    "import gym\n",
    "from stable_baselines3.common.monitor import Monitor\n",
    "\n",
    "env = gym.make(\"CartPole-v1\")\n",
    "env = Monitor(env)\n",
    "print(f\"After Monitor: {type(env)}\")"
   ],
   "metadata": {
    "collapsed": false,
    "ExecuteTime": {
     "end_time": "2025-02-27T07:26:58.498266100Z",
     "start_time": "2025-02-27T07:26:58.421209200Z"
    }
   },
   "id": "6aa2a56bf3ea0bf0"
  },
  {
   "cell_type": "code",
   "execution_count": null,
   "outputs": [],
   "source": [
    "\"[[ 2.77743733e-04  1.22858852e-04  8.54442827e-03 ...  2.59920576e-04\n",
    "   5.34667342e-04  2.04381038e-04]\n",
    " [ 1.02996542e-04  1.07589069e-04  2.43237405e-03 ...  1.42680260e-03\n",
    "   1.54407567e-03  1.79434149e-03]\n",
    " [ 1.48226420e-04  8.39161512e-05 -8.36087565e-04 ...  1.66114455e-03\n",
    "   3.74967436e-04  1.56228710e-03]\n",
    " ...\n",
    " [ 4.71909043e-05  4.25054677e-05  1.42762223e-02 ...  1.19831544e-04\n",
    "   1.01639249e-03  4.21100121e-04]\n",
    " [ 3.58749821e-04  3.17984232e-04  5.73152378e-02 ...  4.97262110e-04\n",
    "   1.91931275e-03  1.05548312e-03]\n",
    " [ 2.05298740e-04  1.90394712e-04  1.29838660e-02 ...  8.34465900e-04\n",
    "   1.11775228e-03  1.79898547e-04]]\""
   ],
   "metadata": {
    "collapsed": false
   },
   "id": "c465b6a7c276e079"
  },
  {
   "cell_type": "code",
   "execution_count": 4,
   "outputs": [
    {
     "name": "stdout",
     "output_type": "stream",
     "text": [
      "False\n"
     ]
    }
   ],
   "source": [
    "import torch\n",
    "\n",
    "print(torch.cuda.is_available())  # 如果返回 True，表示 CUDA 可用\n"
   ],
   "metadata": {
    "collapsed": false,
    "ExecuteTime": {
     "end_time": "2025-02-27T13:29:02.660470900Z",
     "start_time": "2025-02-27T13:29:02.636664900Z"
    }
   },
   "id": "70ffa2775d916e28"
  },
  {
   "cell_type": "code",
   "execution_count": 1,
   "outputs": [
    {
     "name": "stdout",
     "output_type": "stream",
     "text": [
      "2.5.1+cu121\n",
      "True\n"
     ]
    }
   ],
   "source": [
    "import torch\n",
    "print(torch.__version__)\n",
    "print(torch.cuda.is_available())"
   ],
   "metadata": {
    "collapsed": false,
    "ExecuteTime": {
     "end_time": "2025-02-27T14:06:14.493236500Z",
     "start_time": "2025-02-27T14:06:11.796399900Z"
    }
   },
   "id": "926256e37026be6"
  },
  {
   "cell_type": "code",
   "execution_count": 4,
   "outputs": [],
   "source": [
    "from gymnasium import spaces\n",
    "import numpy as np"
   ],
   "metadata": {
    "collapsed": false,
    "ExecuteTime": {
     "end_time": "2025-02-28T15:48:12.882252300Z",
     "start_time": "2025-02-28T15:48:12.871697600Z"
    }
   },
   "id": "853a1810d3395ffc"
  },
  {
   "cell_type": "code",
   "execution_count": 5,
   "outputs": [],
   "source": [
    "incoming_beam_space = spaces.Box(\n",
    "            low=np.array([\n",
    "                    5e6,   # it is eV, mu_x, mu_px, mu_y,...,sigma_tau\n",
    "                    -1e-3,\n",
    "                    -1e-4,\n",
    "                    -1e-3,\n",
    "                    -1e-4,\n",
    "                    1e-5,\n",
    "                    1e-6,\n",
    "                    1e-5,\n",
    "                    1e-6,\n",
    "                    1e-6,\n",
    "                    1e-4],dtype=np.float32),\n",
    "            high=np.array([20e6, 1e-3, 1e-4, 1e-3, 1e-4, 5e-4, 5e-5, 5e-4, 5e-5, 5e-5, 1e-3],dtype=np.float32,),)"
   ],
   "metadata": {
    "collapsed": false,
    "ExecuteTime": {
     "end_time": "2025-02-28T15:48:13.439071800Z",
     "start_time": "2025-02-28T15:48:13.429996500Z"
    }
   },
   "id": "801df9d9967db8ab"
  },
  {
   "cell_type": "code",
   "execution_count": 7,
   "outputs": [
    {
     "data": {
      "text/plain": "array([1.2150343e+07, 9.7385299e-04, 2.5033914e-05, 3.7967923e-04,\n       8.7549182e-05, 1.8049979e-04, 4.2629803e-05, 3.4674196e-04,\n       3.9467581e-05, 4.6196754e-05, 6.6860713e-04], dtype=float32)"
     },
     "execution_count": 7,
     "metadata": {},
     "output_type": "execute_result"
    }
   ],
   "source": [
    "a = incoming_beam_space.sample()\n",
    "a"
   ],
   "metadata": {
    "collapsed": false,
    "ExecuteTime": {
     "end_time": "2025-02-28T15:48:53.799542400Z",
     "start_time": "2025-02-28T15:48:53.755126800Z"
    }
   },
   "id": "555f82d6f05ffac3"
  },
  {
   "cell_type": "code",
   "execution_count": 8,
   "outputs": [
    {
     "data": {
      "text/plain": "dtype('float32')"
     },
     "execution_count": 8,
     "metadata": {},
     "output_type": "execute_result"
    }
   ],
   "source": [
    "a.dtype"
   ],
   "metadata": {
    "collapsed": false,
    "ExecuteTime": {
     "end_time": "2025-02-28T15:49:00.175048400Z",
     "start_time": "2025-02-28T15:49:00.097940700Z"
    }
   },
   "id": "c4aff2dc80301be5"
  },
  {
   "cell_type": "code",
   "execution_count": null,
   "outputs": [],
   "source": [],
   "metadata": {
    "collapsed": false
   },
   "id": "b1981b1e75ee1e53"
  }
 ],
 "metadata": {
  "kernelspec": {
   "display_name": "Python 3",
   "language": "python",
   "name": "python3"
  },
  "language_info": {
   "codemirror_mode": {
    "name": "ipython",
    "version": 2
   },
   "file_extension": ".py",
   "mimetype": "text/x-python",
   "name": "python",
   "nbconvert_exporter": "python",
   "pygments_lexer": "ipython2",
   "version": "2.7.6"
  }
 },
 "nbformat": 4,
 "nbformat_minor": 5
}
