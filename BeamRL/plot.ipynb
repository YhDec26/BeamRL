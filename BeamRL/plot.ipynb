{
 "cells": [
  {
   "cell_type": "code",
   "execution_count": null,
   "id": "initial_id",
   "metadata": {
    "collapsed": true
   },
   "outputs": [],
   "source": [
    "magnet_names = [\"S1_low_1focus\", \"S2_low_1focus\", \"S3_low_1focus\", \"ion_1\", \"Q1\", \"Q2\", \"B1\", \"BPM_1\", \"Q3_LB\", \"Q4_LB\", \"B2\", \"BPM_2\", \"Q5_0.0015err\", \"Q6_0.0015err\", \"Q6.5_OCTx_off\", \"Q7\", \"Q8\", \"Q8.5_OCTy_off\", \"Qj6_long_d20\", \"Qj7_long_d20\", \"Qj8_long_d20\", \"ion_2\"]"
   ]
  }
 ],
 "metadata": {
  "kernelspec": {
   "display_name": "Python 3",
   "language": "python",
   "name": "python3"
  },
  "language_info": {
   "codemirror_mode": {
    "name": "ipython",
    "version": 2
   },
   "file_extension": ".py",
   "mimetype": "text/x-python",
   "name": "python",
   "nbconvert_exporter": "python",
   "pygments_lexer": "ipython2",
   "version": "2.7.6"
  }
 },
 "nbformat": 4,
 "nbformat_minor": 5
}
